{
 "cells": [
  {
   "cell_type": "code",
   "execution_count": 1,
   "id": "5930e951-10f3-4534-832e-1f314c452bd5",
   "metadata": {},
   "outputs": [],
   "source": [
    "from rdkit import Chem\n",
    "import gzip\n",
    "#from ftplib import FTP\n",
    "\n",
    "from tqdm import tqdm\n",
    "import time\n",
    "#from tqdm import trange\n",
    "\n",
    "#import itertools\n",
    "import pandas as pd\n",
    "import numpy as np\n",
    "\n",
    "from mordred import Calculator, descriptors\n",
    "import pickle"
   ]
  },
  {
   "cell_type": "code",
   "execution_count": 2,
   "id": "85068f9a-6796-4df7-83c4-a1e83fbb0958",
   "metadata": {},
   "outputs": [],
   "source": [
    "def mord(mol):\n",
    "    desc = calc(mol)\n",
    "    mordred = np.asarray(desc).astype(float)\n",
    "    mordred = np.round(mordred, 2)\n",
    "    return mordred"
   ]
  },
  {
   "cell_type": "code",
   "execution_count": null,
   "id": "cc110d68-573c-409a-bc53-db6120d01ee4",
   "metadata": {},
   "outputs": [],
   "source": [
    "sv_dir = 'Compound_000000001_000500000'\n",
    "calc = Calculator(descriptors, ignore_3D= True)\n",
    "# start_index = 0\n",
    "# end_index = 50000\n",
    "with gzip.open(sv_dir+'.sdf.gz', 'rb') as f: # 打开SDF.gz文件\n",
    "    # 读取SDF文件\n",
    "    suppl = Chem.ForwardSDMolSupplier(f)\n",
    "# 使用itertools.islice来截取指定范围的数据\n",
    "#    subset = list(itertools.islice(suppl, start_index, end_index))\n",
    "    array_list = list(tqdm((mord(mol) for mol in suppl if mol is not None)))"
   ]
  },
  {
   "cell_type": "code",
   "execution_count": 5,
   "id": "cf6ba2c2-ed81-4fee-822d-659e55afd945",
   "metadata": {},
   "outputs": [],
   "source": [
    "sv_path = '/home/is/pei-ga/Sony/AE/split_0.pkl'\n",
    "with open(sv_path, \"wb\") as handle:\n",
    "    pickle.dump(array_list, handle, protocol=pickle.HIGHEST_PROTOCOL)"
   ]
  },
  {
   "cell_type": "code",
   "execution_count": null,
   "id": "6351ed1b-68b2-4677-9684-0fd00b64ebe7",
   "metadata": {},
   "outputs": [],
   "source": []
  },
  {
   "cell_type": "code",
   "execution_count": null,
   "id": "5c2d0623-c237-4bf1-9a66-7beb1797ac69",
   "metadata": {},
   "outputs": [],
   "source": []
  },
  {
   "cell_type": "markdown",
   "id": "b2c7881f-3029-444d-9904-a9fcf53f94b3",
   "metadata": {},
   "source": [
    "# 连接到 PubChem FTP 服务器\n",
    "ftp = FTP('ftp.ncbi.nlm.nih.gov')\n",
    "ftp.login()  # 使用匿名登录，无需提供用户名和密码\n",
    "ftp.timeout = 120\n",
    "# 切换到 PubChem 数据库的路径\n",
    "ftp.cwd('/pubchem/Compound/CURRENT-Full/SDF')"
   ]
  },
  {
   "cell_type": "markdown",
   "id": "ae6f11ec-b1fa-4bc8-9c00-737db9e9fd5e",
   "metadata": {},
   "source": [
    "# 下载文件\n",
    "filename = 'Compound_004000001_004500000.sdf.gz'  # 要下载的文件名\n",
    "local_path = '/home/is/pei-ga/Sony/AE/'+filename  # 本地保存路径\n",
    "\n",
    "with open(local_path, 'wb') as file:\n",
    "    ftp.retrbinary('RETR ' + filename, file.write)"
   ]
  },
  {
   "cell_type": "markdown",
   "id": "8a816ece-680b-4813-a173-9c0626192b75",
   "metadata": {},
   "source": [
    "# 关闭 FTP 连接\n",
    "ftp.quit()"
   ]
  }
 ],
 "metadata": {
  "kernelspec": {
   "display_name": "Python 3 (ipykernel)",
   "language": "python",
   "name": "python3"
  },
  "language_info": {
   "codemirror_mode": {
    "name": "ipython",
    "version": 3
   },
   "file_extension": ".py",
   "mimetype": "text/x-python",
   "name": "python",
   "nbconvert_exporter": "python",
   "pygments_lexer": "ipython3",
   "version": "3.8.8"
  }
 },
 "nbformat": 4,
 "nbformat_minor": 5
}
