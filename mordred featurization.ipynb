{
 "cells": [
  {
   "cell_type": "code",
   "execution_count": 1,
   "id": "5930e951-10f3-4534-832e-1f314c452bd5",
   "metadata": {},
   "outputs": [],
   "source": [
    "from ftplib import FTP\n",
    "import gzip\n",
    "\n",
    "from tqdm import tqdm\n",
    "import time\n",
    "import itertools\n",
    "import pickle\n",
    "\n",
    "import pandas as pd\n",
    "import numpy as np\n",
    "\n",
    "from rdkit import Chem\n",
    "from mordred import Calculator, descriptors"
   ]
  },
  {
   "cell_type": "code",
   "execution_count": null,
   "id": "aaab36ba-4656-4173-955c-7187694ec97c",
   "metadata": {},
   "outputs": [],
   "source": [
    "# Connecting to PubChem FTP Server\n",
    "ftp = FTP('ftp.ncbi.nlm.nih.gov')\n",
    "ftp.login()  # Anonymous login\n",
    "ftp.timeout = 120\n",
    "# Switch to the path of the PubChem database\n",
    "ftp.cwd('/pubchem/Compound/CURRENT-Full/SDF')"
   ]
  },
  {
   "cell_type": "code",
   "execution_count": null,
   "id": "55b315f2-789d-4268-b710-1628bdeba3ba",
   "metadata": {},
   "outputs": [],
   "source": [
    "filename = 'Compound_004000001_004500000.sdf.gz' \n",
    "local_path = '/home/is/pei-ga/Sony/AE/'+filename\n",
    "\n",
    "with open(local_path, 'wb') as file:\n",
    "    ftp.retrbinary('RETR ' + filename, file.write)"
   ]
  },
  {
   "cell_type": "code",
   "execution_count": null,
   "id": "60260927-b276-4f9b-9cdf-55209944ac65",
   "metadata": {},
   "outputs": [],
   "source": [
    "ftp.quit()"
   ]
  },
  {
   "cell_type": "code",
   "execution_count": null,
   "id": "9ebdb01a-a03e-473e-8419-a91d4a3161aa",
   "metadata": {},
   "outputs": [],
   "source": []
  },
  {
   "cell_type": "code",
   "execution_count": 2,
   "id": "85068f9a-6796-4df7-83c4-a1e83fbb0958",
   "metadata": {},
   "outputs": [],
   "source": [
    "def mord(mol):\n",
    "    desc = calc(mol)\n",
    "    mordred = np.asarray(desc).astype(float)\n",
    "    mordred = np.round(mordred, 2)\n",
    "    return mordred"
   ]
  },
  {
   "cell_type": "code",
   "execution_count": null,
   "id": "cc110d68-573c-409a-bc53-db6120d01ee4",
   "metadata": {},
   "outputs": [],
   "source": [
    "sv_dir = 'Compound_000000001_000500000'\n",
    "calc = Calculator(descriptors, ignore_3D= True)\n",
    "# start_index = 0\n",
    "# end_index = 50000\n",
    "with gzip.open(sv_dir+'.sdf.gz', 'rb') as f: \n",
    "    suppl = Chem.ForwardSDMolSupplier(f)\n",
    "# Use itertools.islice to intercept a specified range of data\n",
    "#    subset = list(itertools.islice(suppl, start_index, end_index))\n",
    "    array_list = list(tqdm((mord(mol) for mol in suppl if mol is not None)))"
   ]
  },
  {
   "cell_type": "code",
   "execution_count": 5,
   "id": "cf6ba2c2-ed81-4fee-822d-659e55afd945",
   "metadata": {},
   "outputs": [],
   "source": [
    "sv_path = '/home/is/pei-ga/Sony/AE/split_0.pkl'\n",
    "with open(sv_path, \"wb\") as handle:\n",
    "    pickle.dump(array_list, handle, protocol=pickle.HIGHEST_PROTOCOL)"
   ]
  }
 ],
 "metadata": {
  "kernelspec": {
   "display_name": "Python 3 (ipykernel)",
   "language": "python",
   "name": "python3"
  },
  "language_info": {
   "codemirror_mode": {
    "name": "ipython",
    "version": 3
   },
   "file_extension": ".py",
   "mimetype": "text/x-python",
   "name": "python",
   "nbconvert_exporter": "python",
   "pygments_lexer": "ipython3",
   "version": "3.8.8"
  }
 },
 "nbformat": 4,
 "nbformat_minor": 5
}
